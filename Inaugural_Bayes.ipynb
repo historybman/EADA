{
 "cells": [
  {
   "cell_type": "code",
   "execution_count": 4,
   "metadata": {
    "collapsed": false
   },
   "outputs": [
    {
     "data": {
      "text/html": [
       "<div>\n",
       "<table border=\"1\" class=\"dataframe\">\n",
       "  <thead>\n",
       "    <tr style=\"text-align: right;\">\n",
       "      <th></th>\n",
       "      <th>urls</th>\n",
       "      <th>years</th>\n",
       "      <th>pres</th>\n",
       "      <th>texts</th>\n",
       "      <th>wordcounts</th>\n",
       "      <th>party</th>\n",
       "      <th>change</th>\n",
       "      <th>new counts</th>\n",
       "      <th>party_indices</th>\n",
       "      <th>change_indices</th>\n",
       "    </tr>\n",
       "  </thead>\n",
       "  <tbody>\n",
       "    <tr>\n",
       "      <th>0</th>\n",
       "      <td>http://avalon.law.yale.edu/18th_century/wash1.asp</td>\n",
       "      <td>1789</td>\n",
       "      <td>George Washington</td>\n",
       "      <td>of    THE CITY OF NEW YORK THURSDAY, APRIL 3...</td>\n",
       "      <td>1443.0</td>\n",
       "      <td>Federalist</td>\n",
       "      <td>New_Party</td>\n",
       "      <td>1443</td>\n",
       "      <td>0</td>\n",
       "      <td>0</td>\n",
       "    </tr>\n",
       "    <tr>\n",
       "      <th>1</th>\n",
       "      <td>http://avalon.law.yale.edu/18th_century/wash2.asp</td>\n",
       "      <td>1793</td>\n",
       "      <td>George Washington</td>\n",
       "      <td>of    THE CITY OF PHILADELPHIA MONDAY, MARCH...</td>\n",
       "      <td>149.0</td>\n",
       "      <td>Federalist</td>\n",
       "      <td>Incumbent_Party</td>\n",
       "      <td>149</td>\n",
       "      <td>0</td>\n",
       "      <td>1</td>\n",
       "    </tr>\n",
       "    <tr>\n",
       "      <th>2</th>\n",
       "      <td>http://avalon.law.yale.edu/18th_century/adams.asp</td>\n",
       "      <td>1797</td>\n",
       "      <td>John Adams</td>\n",
       "      <td>© 2008 Lillian Goldman Law Library 127 Wall St...</td>\n",
       "      <td>2417.0</td>\n",
       "      <td>Democratic-Republican</td>\n",
       "      <td>New_Party</td>\n",
       "      <td>2417</td>\n",
       "      <td>1</td>\n",
       "      <td>0</td>\n",
       "    </tr>\n",
       "    <tr>\n",
       "      <th>3</th>\n",
       "      <td>http://avalon.law.yale.edu/19th_century/jefina...</td>\n",
       "      <td>1801</td>\n",
       "      <td>Thomas Jefferson</td>\n",
       "      <td>March 4, 1801 FRIENDS AND FELLOW-...</td>\n",
       "      <td>1742.0</td>\n",
       "      <td>Democratic-Republican</td>\n",
       "      <td>Incumbent_Party</td>\n",
       "      <td>1742</td>\n",
       "      <td>1</td>\n",
       "      <td>1</td>\n",
       "    </tr>\n",
       "    <tr>\n",
       "      <th>4</th>\n",
       "      <td>http://avalon.law.yale.edu/19th_century/jefina...</td>\n",
       "      <td>1805</td>\n",
       "      <td>Thomas Jefferson</td>\n",
       "      <td>March 4, 1805  Proceeding, fellow citi...</td>\n",
       "      <td>2162.0</td>\n",
       "      <td>Democratic-Republican</td>\n",
       "      <td>Incumbent_Party</td>\n",
       "      <td>2162</td>\n",
       "      <td>1</td>\n",
       "      <td>1</td>\n",
       "    </tr>\n",
       "  </tbody>\n",
       "</table>\n",
       "</div>"
      ],
      "text/plain": [
       "                                                urls  years  \\\n",
       "0  http://avalon.law.yale.edu/18th_century/wash1.asp   1789   \n",
       "1  http://avalon.law.yale.edu/18th_century/wash2.asp   1793   \n",
       "2  http://avalon.law.yale.edu/18th_century/adams.asp   1797   \n",
       "3  http://avalon.law.yale.edu/19th_century/jefina...   1801   \n",
       "4  http://avalon.law.yale.edu/19th_century/jefina...   1805   \n",
       "\n",
       "                pres                                              texts  \\\n",
       "0  George Washington    of    THE CITY OF NEW YORK THURSDAY, APRIL 3...   \n",
       "1  George Washington    of    THE CITY OF PHILADELPHIA MONDAY, MARCH...   \n",
       "2         John Adams  © 2008 Lillian Goldman Law Library 127 Wall St...   \n",
       "3   Thomas Jefferson               March 4, 1801 FRIENDS AND FELLOW-...   \n",
       "4   Thomas Jefferson          March 4, 1805  Proceeding, fellow citi...   \n",
       "\n",
       "   wordcounts                  party           change  new counts  \\\n",
       "0      1443.0             Federalist        New_Party        1443   \n",
       "1       149.0             Federalist  Incumbent_Party         149   \n",
       "2      2417.0  Democratic-Republican        New_Party        2417   \n",
       "3      1742.0  Democratic-Republican  Incumbent_Party        1742   \n",
       "4      2162.0  Democratic-Republican  Incumbent_Party        2162   \n",
       "\n",
       "   party_indices  change_indices  \n",
       "0              0               0  \n",
       "1              0               1  \n",
       "2              1               0  \n",
       "3              1               1  \n",
       "4              1               1  "
      ]
     },
     "execution_count": 4,
     "metadata": {},
     "output_type": "execute_result"
    }
   ],
   "source": [
    "import os, csv, math, random\n",
    "import pandas as pd\n",
    "import numpy as np\n",
    "\n",
    "from collections import Counter\n",
    "\n",
    "inaugural = pd.read_csv('data/inaugural_complete.csv')\n",
    "inaugural.head()"
   ]
  },
  {
   "cell_type": "markdown",
   "metadata": {
    "collapsed": true
   },
   "source": [
    "## perform a bayes analysis, but first simplify data frame"
   ]
  },
  {
   "cell_type": "code",
   "execution_count": 7,
   "metadata": {
    "collapsed": false
   },
   "outputs": [
    {
     "data": {
      "text/html": [
       "<div>\n",
       "<table border=\"1\" class=\"dataframe\">\n",
       "  <thead>\n",
       "    <tr style=\"text-align: right;\">\n",
       "      <th></th>\n",
       "      <th>text</th>\n",
       "      <th>change_indices</th>\n",
       "      <th>fold</th>\n",
       "    </tr>\n",
       "  </thead>\n",
       "  <tbody>\n",
       "  </tbody>\n",
       "</table>\n",
       "</div>"
      ],
      "text/plain": [
       "Empty DataFrame\n",
       "Columns: [text, change_indices, fold]\n",
       "Index: []"
      ]
     },
     "execution_count": 7,
     "metadata": {},
     "output_type": "execute_result"
    }
   ],
   "source": [
    "def inaugural_test(a_data_frame, rowidx):\n",
    "    if a_data_frame['change_indices'][rowidx] == 1:\n",
    "        return 'incumbent'\n",
    "    elif a_data_frame['change_indices'][rowidx] == 0:\n",
    "        return 'new_party'\n",
    "    else:\n",
    "        return 'other'\n",
    "    \n",
    "address_text = inaugural['texts']\n",
    "\n",
    "source = []\n",
    "fold = []\n",
    "for idx in inaugural.index:\n",
    "    source.append(inaugural_test(inaugural, idx))\n",
    "    fold.append(random.sample(list(range(5)), 1)[0])\n",
    "source = pd.Series(source, index = inaugural.index)\n",
    "fold = pd.Series(fold, index = inaugural.index)\n",
    "\n",
    "tdf = pd.concat([address_text, source, fold], axis = 1)\n",
    "tdf.columns = ['text', 'change_indices', 'fold']\n",
    "\n",
    "# limit the dataframe to columns with either android or iphone;\n",
    "# exclude 'other'\n",
    "tdf = tdf[(tdf['change_indices'] == 1) | (tdf['change_indices'] == 0)]\n",
    "tdf.head()\n"
   ]
  },
  {
   "cell_type": "code",
   "execution_count": null,
   "metadata": {
    "collapsed": true
   },
   "outputs": [],
   "source": []
  }
 ],
 "metadata": {
  "anaconda-cloud": {},
  "kernelspec": {
   "display_name": "Python [py35]",
   "language": "python",
   "name": "Python [py35]"
  },
  "language_info": {
   "codemirror_mode": {
    "name": "ipython",
    "version": 3
   },
   "file_extension": ".py",
   "mimetype": "text/x-python",
   "name": "python",
   "nbconvert_exporter": "python",
   "pygments_lexer": "ipython3",
   "version": "3.5.2"
  }
 },
 "nbformat": 4,
 "nbformat_minor": 0
}
