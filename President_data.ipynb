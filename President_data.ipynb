{
 "cells": [
  {
   "cell_type": "code",
   "execution_count": 1,
   "metadata": {
    "collapsed": true
   },
   "outputs": [],
   "source": [
    "import urllib.request"
   ]
  },
  {
   "cell_type": "code",
   "execution_count": 43,
   "metadata": {
    "collapsed": true
   },
   "outputs": [],
   "source": [
    "html = urllib.request.urlopen('http://www.enchantedlearning.com/history/us/pres/list.shtml', data = None)"
   ]
  },
  {
   "cell_type": "code",
   "execution_count": 44,
   "metadata": {
    "collapsed": false
   },
   "outputs": [],
   "source": [
    "from bs4 import BeautifulSoup\n",
    "soup = BeautifulSoup(html, 'html.parser')\n"
   ]
  },
  {
   "cell_type": "code",
   "execution_count": 97,
   "metadata": {
    "collapsed": false
   },
   "outputs": [
    {
     "name": "stdout",
     "output_type": "stream",
     "text": [
      "[]\n",
      "['1. George Washington (1732-1799)', 'None, Federalist', '1789-1797', 'John Adams']\n",
      "['2. John Adams (1735-1826)', 'Federalist', '1797-1801', 'Thomas Jefferson']\n",
      "['3. Thomas Jefferson (1743-1826)', 'Democratic-Republican', '1801-1809', 'Aaron Burr, George Clinton']\n",
      "['4. James Madison (1751-1836)', 'Democratic-Republican', '1809-1817', 'George Clinton, Elbridge Gerry']\n",
      "['5. James Monroe (1758-1831)', 'Democratic-Republican', '1817-1825', 'Daniel Tompkins']\n",
      "['6. John Quincy Adams (1767-1848)', 'Democratic-Republican', '1825-1829', 'John Calhoun']\n",
      "['7. Andrew Jackson (1767-1845)', 'Democrat', '1829-1837', 'John Calhoun, Martin van Buren']\n",
      "['8. Martin van Buren (1782-1862)', 'Democrat', '1837-1841', 'Richard Johnson']\n",
      "['9. William H. Harrison (1773-1841)', 'Whig', '1841', 'John Tyler']\n",
      "['10. John Tyler (1790-1862)', 'Whig', '1841-1845', '.']\n",
      "['11. James K. Polk (1795-1849)', 'Democrat', '1845-1849', 'George Dallas']\n",
      "['12. Zachary Taylor (1784-1850)', 'Whig', '1849-1850', 'Millard Fillmore']\n",
      "['13. Millard Fillmore (1800-1874)', 'Whig', '1850-1853', '.']\n",
      "['14. Franklin Pierce (1804-1869)', 'Democrat', '1853-1857', 'William King']\n",
      "['15. James Buchanan (1791-1868)', 'Democrat', '1857-1861', 'John Breckinridge']\n",
      "['16. Abraham Lincoln (1809-1865)', 'Republican', '1861-1865', 'Hannibal Hamlin, Andrew Johnson']\n",
      "['17. Andrew Johnson (1808-1875)', 'National Union', '1865-1869', '.']\n",
      "['18. Ulysses S. Grant (1822-1885)', 'Republican', '1869-1877', 'Schuyler Colfax']\n",
      "['19. Rutherford Hayes (1822-1893)', 'Republican', '1877-1881', 'William Wheeler']\n",
      "['20. James Garfield (1831-1881)', 'Republican', '1881', 'Chester Arthur']\n",
      "['21. Chester Arthur (1829-1886)', 'Republican', '1881-1885', '.']\n",
      "['22. Grover Cleveland (1837-1908)', 'Democrat', '1885-1889', 'Thomas Hendriks']\n",
      "['23. Benjamin Harrison (1833-1901)', 'Republican', '1889-1893', 'Levi Morton']\n",
      "['24. Grover Cleveland (1837-1908)', 'Democrat', '1893-1897', 'Adlai Stevenson']\n",
      "['25. William McKinley (1843-1901)', 'Republican', '1897-1901', 'Garret Hobart, Theodore Roosevelt']\n",
      "['26. Theodore Roosevelt (1858-1919)', 'Republican', '1901-1909', 'Charles Fairbanks']\n",
      "['27. William Taft (1857-1930)', 'Republican', '1909-1913', 'James Sherman']\n",
      "['28. Woodrow Wilson (1856-1924)', 'Democrat', '1913-1921', 'Thomas Marshall']\n",
      "['29. Warren Harding (1865-1923)', 'Republican', '1921-1923', 'Calvin Coolidge']\n",
      "['30. Calvin Coolidge (1872-1933)', 'Republican', '1923-1929', 'Charles Dawes']\n",
      "['31. Herbert C. Hoover (1874-1964)', 'Republican', '1929-1933', 'Charles Curtis']\n",
      "['32. Franklin Delano Roosevelt (1882-1945)', 'Democrat', '1933-1945', 'John Garner, Henry Wallace, Harry S. Truman']\n",
      "['33. Harry S Truman (1884-1972)', 'Democrat', '1945-1953', 'Alben Barkley']\n",
      "['34. Dwight David Eisenhower (1890-1969)', 'Republican', '1953-1961', 'Richard Milhous Nixon']\n",
      "['35. John Fitzgerald Kennedy (1917-1963)', 'Democrat', '1961-1963', 'Lyndon Johnson']\n",
      "['36. Lyndon Baines Johnson (1908-1973)', 'Democrat', '1963-1969', 'Hubert Humphrey']\n",
      "['37.  Richard Milhous Nixon (1913-1994)', 'Republican', '1969-1974', 'Spiro Agnew, Gerald R. Ford']\n",
      "['38. Gerald R. Ford (1913- 2006)', 'Republican', '1974-1977', 'Nelson Rockefeller']\n",
      "['39. James (Jimmy) Earl Carter, Jr. (1924- )', 'Democrat', '1977-1981', 'Walter Mondale']\n",
      "['40. Ronald Wilson Reagan (1911- 2004)', 'Republican', '1981-1989', 'George H. W. Bush']\n",
      "['41. George H. W. Bush (1924- )', 'Republican', '1989-1993', 'James Danforth (Dan) Quayle']\n",
      "['42. William (Bill) Jefferson Clinton (1946- )', 'Democrat', '1993-2001', 'Al Gore']\n",
      "['43. George W. Bush (1946- )', 'Republican', '2001-2009', 'Richard Cheney']\n",
      "['44. Barack Obama (1961- )', 'Democrat', '2009-2017', 'Joseph Biden']\n",
      "['45. Donald Trump (1946- )', 'Republican', '2017-', 'Michael (Mike) Pence']\n"
     ]
    }
   ],
   "source": [
    "table = soup.find_all(\"table\", { \"cellspacing\" : \"1\" })[1]\n",
    "# table_body=table.find('tbody')\n",
    "rows = table.find_all('tr')\n",
    "for row in rows:\n",
    "    cols=row.find_all('td')\n",
    "    cols=[x.text.strip() for x in cols]\n",
    "    print(cols)"
   ]
  },
  {
   "cell_type": "code",
   "execution_count": 94,
   "metadata": {
    "collapsed": false
   },
   "outputs": [
    {
     "ename": "IndexError",
     "evalue": "list index out of range",
     "output_type": "error",
     "traceback": [
      "\u001b[0;31m---------------------------------------------------------------------------\u001b[0m",
      "\u001b[0;31mIndexError\u001b[0m                                Traceback (most recent call last)",
      "\u001b[0;32m<ipython-input-94-594c59f201c5>\u001b[0m in \u001b[0;36m<module>\u001b[0;34m()\u001b[0m\n\u001b[1;32m      3\u001b[0m \u001b[0;32mfor\u001b[0m \u001b[0mtr\u001b[0m \u001b[0;32min\u001b[0m \u001b[0mtable\u001b[0m\u001b[0;34m.\u001b[0m\u001b[0mfind_all\u001b[0m\u001b[0;34m(\u001b[0m\u001b[0;34m'tr'\u001b[0m\u001b[0;34m)\u001b[0m\u001b[0;34m:\u001b[0m\u001b[0;34m\u001b[0m\u001b[0m\n\u001b[1;32m      4\u001b[0m     \u001b[0mtds\u001b[0m \u001b[0;34m=\u001b[0m \u001b[0mtr\u001b[0m\u001b[0;34m.\u001b[0m\u001b[0mfind_all\u001b[0m\u001b[0;34m(\u001b[0m\u001b[0;34m'td'\u001b[0m\u001b[0;34m)\u001b[0m\u001b[0;34m\u001b[0m\u001b[0m\n\u001b[0;32m----> 5\u001b[0;31m     \u001b[0mprint\u001b[0m\u001b[0;34m(\u001b[0m\u001b[0;34m\"Pres: {}, Party: {}, Term: {}, Vice: {}\"\u001b[0m\u001b[0;34m.\u001b[0m\u001b[0mformat\u001b[0m\u001b[0;34m(\u001b[0m\u001b[0mtds\u001b[0m\u001b[0;34m[\u001b[0m\u001b[0;36m0\u001b[0m\u001b[0;34m]\u001b[0m\u001b[0;34m.\u001b[0m\u001b[0mtext\u001b[0m\u001b[0;34m,\u001b[0m \u001b[0mtds\u001b[0m\u001b[0;34m[\u001b[0m\u001b[0;36m1\u001b[0m\u001b[0;34m]\u001b[0m\u001b[0;34m.\u001b[0m\u001b[0mtext\u001b[0m\u001b[0;34m,\u001b[0m \u001b[0mtds\u001b[0m\u001b[0;34m[\u001b[0m\u001b[0;36m2\u001b[0m\u001b[0;34m]\u001b[0m\u001b[0;34m.\u001b[0m\u001b[0mtext\u001b[0m\u001b[0;34m,\u001b[0m \u001b[0mtds\u001b[0m\u001b[0;34m[\u001b[0m\u001b[0;36m3\u001b[0m\u001b[0;34m]\u001b[0m\u001b[0;34m.\u001b[0m\u001b[0mtext\u001b[0m\u001b[0;34m)\u001b[0m\u001b[0;34m)\u001b[0m\u001b[0;34m\u001b[0m\u001b[0m\n\u001b[0m\u001b[1;32m      6\u001b[0m     \u001b[0mprint\u001b[0m\u001b[0;34m(\u001b[0m\u001b[0mtds\u001b[0m\u001b[0;34m)\u001b[0m\u001b[0;34m\u001b[0m\u001b[0m\n",
      "\u001b[0;31mIndexError\u001b[0m: list index out of range"
     ]
    }
   ],
   "source": [
    "# headings = table.find_all('th')\n",
    "# rows = []\n",
    "# for tr in table.find_all('tr'):\n",
    "#     tds = tr.find_all('td')\n",
    "# #     print(\"Pres: {}, Party: {}, Term: {}, Vice: {}\".format(tds[0].text, tds[1].text, tds[2].text, tds[3].text))\n",
    "#     print(tds)\n"
   ]
  },
  {
   "cell_type": "code",
   "execution_count": null,
   "metadata": {
    "collapsed": true
   },
   "outputs": [],
   "source": []
  }
 ],
 "metadata": {
  "anaconda-cloud": {},
  "kernelspec": {
   "display_name": "Python [conda env:py35]",
   "language": "python",
   "name": "conda-env-py35-py"
  },
  "language_info": {
   "codemirror_mode": {
    "name": "ipython",
    "version": 3
   },
   "file_extension": ".py",
   "mimetype": "text/x-python",
   "name": "python",
   "nbconvert_exporter": "python",
   "pygments_lexer": "ipython3",
   "version": "3.5.2"
  }
 },
 "nbformat": 4,
 "nbformat_minor": 1
}
