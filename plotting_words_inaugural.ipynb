{
 "cells": [
  {
   "cell_type": "code",
   "execution_count": 17,
   "metadata": {
    "collapsed": false
   },
   "outputs": [
    {
     "name": "stdout",
     "output_type": "stream",
     "text": [
      "Current working directory: /Users/rmorriss/Documents/pythonprojects/EADA\n",
      "\n"
     ]
    }
   ],
   "source": [
    "%matplotlib inline\n",
    "import os\n",
    "import pandas as pd\n",
    "import numpy as np\n",
    "import matplotlib.pyplot as plt\n",
    "\n",
    "cwd = os.getcwd()\n",
    "print('Current working directory: ' + cwd + '\\n')\n",
    "      \n",
    "relativepath = os.path.join('data', 'inaugurals.csv')\n",
    "inaugurals = pd.read_csv(relativepath)"
   ]
  },
  {
   "cell_type": "code",
   "execution_count": 18,
   "metadata": {
    "collapsed": false
   },
   "outputs": [
    {
     "data": {
      "text/html": [
       "<div>\n",
       "<table border=\"1\" class=\"dataframe\">\n",
       "  <thead>\n",
       "    <tr style=\"text-align: right;\">\n",
       "      <th></th>\n",
       "      <th>Unnamed: 0</th>\n",
       "      <th>urls</th>\n",
       "      <th>years</th>\n",
       "      <th>pres</th>\n",
       "      <th>texts</th>\n",
       "      <th>wordcounts</th>\n",
       "    </tr>\n",
       "  </thead>\n",
       "  <tbody>\n",
       "    <tr>\n",
       "      <th>0</th>\n",
       "      <td>0</td>\n",
       "      <td>http://avalon.law.yale.edu/18th_century/wash1.asp</td>\n",
       "      <td>1789</td>\n",
       "      <td>George Washington</td>\n",
       "      <td>\\n\\n\\n\\n\\r\\n\\r\\nFirst Inaugural Address of Geo...</td>\n",
       "      <td>1443.0</td>\n",
       "    </tr>\n",
       "    <tr>\n",
       "      <th>1</th>\n",
       "      <td>1</td>\n",
       "      <td>http://avalon.law.yale.edu/18th_century/wash2.asp</td>\n",
       "      <td>1793</td>\n",
       "      <td>George Washington</td>\n",
       "      <td>\\n\\n\\n\\n\\r\\n\\r\\n\\r\\nSecond Inaugural Address o...</td>\n",
       "      <td>149.0</td>\n",
       "    </tr>\n",
       "    <tr>\n",
       "      <th>2</th>\n",
       "      <td>2</td>\n",
       "      <td>http://avalon.law.yale.edu/18th_century/adams.asp</td>\n",
       "      <td>1797</td>\n",
       "      <td>John Adams</td>\n",
       "      <td>\\n\\n\\n\\n\\n© 2008 Lillian Goldman Law Library\\n...</td>\n",
       "      <td>2417.0</td>\n",
       "    </tr>\n",
       "    <tr>\n",
       "      <th>3</th>\n",
       "      <td>3</td>\n",
       "      <td>http://avalon.law.yale.edu/19th_century/jefina...</td>\n",
       "      <td>1801</td>\n",
       "      <td>Thomas Jefferson</td>\n",
       "      <td>\\n\\n\\n\\n\\nThe Avalon Project  at Yale Law Scho...</td>\n",
       "      <td>1742.0</td>\n",
       "    </tr>\n",
       "    <tr>\n",
       "      <th>4</th>\n",
       "      <td>4</td>\n",
       "      <td>http://avalon.law.yale.edu/19th_century/jefina...</td>\n",
       "      <td>1805</td>\n",
       "      <td>Thomas Jefferson</td>\n",
       "      <td>\\n\\n\\n\\n\\r\\n\\r\\nThomas Jefferson Second Inaugu...</td>\n",
       "      <td>2162.0</td>\n",
       "    </tr>\n",
       "  </tbody>\n",
       "</table>\n",
       "</div>"
      ],
      "text/plain": [
       "   Unnamed: 0                                               urls  years  \\\n",
       "0           0  http://avalon.law.yale.edu/18th_century/wash1.asp   1789   \n",
       "1           1  http://avalon.law.yale.edu/18th_century/wash2.asp   1793   \n",
       "2           2  http://avalon.law.yale.edu/18th_century/adams.asp   1797   \n",
       "3           3  http://avalon.law.yale.edu/19th_century/jefina...   1801   \n",
       "4           4  http://avalon.law.yale.edu/19th_century/jefina...   1805   \n",
       "\n",
       "                pres                                              texts  \\\n",
       "0  George Washington  \\n\\n\\n\\n\\r\\n\\r\\nFirst Inaugural Address of Geo...   \n",
       "1  George Washington  \\n\\n\\n\\n\\r\\n\\r\\n\\r\\nSecond Inaugural Address o...   \n",
       "2         John Adams  \\n\\n\\n\\n\\n© 2008 Lillian Goldman Law Library\\n...   \n",
       "3   Thomas Jefferson  \\n\\n\\n\\n\\nThe Avalon Project  at Yale Law Scho...   \n",
       "4   Thomas Jefferson  \\n\\n\\n\\n\\r\\n\\r\\nThomas Jefferson Second Inaugu...   \n",
       "\n",
       "   wordcounts  \n",
       "0      1443.0  \n",
       "1       149.0  \n",
       "2      2417.0  \n",
       "3      1742.0  \n",
       "4      2162.0  "
      ]
     },
     "execution_count": 18,
     "metadata": {},
     "output_type": "execute_result"
    }
   ],
   "source": [
    "inaugurals.head()"
   ]
  },
  {
   "cell_type": "code",
   "execution_count": 30,
   "metadata": {
    "collapsed": false
   },
   "outputs": [
    {
     "data": {
      "image/png": "[encoded data removed]",
      "text/plain": [
       "<matplotlib.figure.Figure at 0x1173847b8>"
      ]
     },
     "metadata": {},
     "output_type": "display_data"
    }
   ],
   "source": [
    "inaugurals.plot(kind = 'bar', x = 'years', y = 'wordcounts', color = 'r', figsize=(12,6))\n",
    "# plt.xticks(np.arange(min('years'), max('years') +1, 16))\n",
    "# start, end = inaugurals.get_xlim()\n",
    "# inaugurals.xaxis.set_ticks(np.arange(1780, 2016, 4))\n",
    "# inaugurals.xaxis.set_ticks(np.arange(min(inaugurals['years']), max(inaugurals['years']), 10)\n",
    "# plt.locator_params(nbins = 10, axis = 'x')\n",
    "# stepsize = (max(inaugurals['years']) - min(inaugurals['years'])) / 6\n",
    "# ax.plot.xaxis.set_ticks(np.arange(min(inaugurals['years']), max(inaugurals['years']), stepsize))\n",
    "plt.title('Inaugural Addresses')\n",
    "plt.show()"
   ]
  },
  {
   "cell_type": "markdown",
   "metadata": {},
   "source": [
    "## What's going on above?\n",
    "I am not sure why I have an extra index row in the dataframe that I imported from csv. Figure out how to manage that. \n",
    "\n",
    "And figure out how to spread out the year labels.  "
   ]
  }
 ],
 "metadata": {
  "anaconda-cloud": {},
  "kernelspec": {
   "display_name": "Python [py35]",
   "language": "python",
   "name": "Python [py35]"
  },
  "language_info": {
   "codemirror_mode": {
    "name": "ipython",
    "version": 3
   },
   "file_extension": ".py",
   "mimetype": "text/x-python",
   "name": "python",
   "nbconvert_exporter": "python",
   "pygments_lexer": "ipython3",
   "version": "3.5.2"
  }
 },
 "nbformat": 4,
 "nbformat_minor": 0
}
