{
 "cells": [
  {
   "cell_type": "code",
   "execution_count": 1,
   "metadata": {
    "collapsed": true
   },
   "outputs": [],
   "source": [
    "import urllib.request\n",
    "# html = urllib.request.urlopen('http://avalon.law.yale.edu/subject_menus/inaug.asp', data = None)"
   ]
  },
  {
   "cell_type": "code",
   "execution_count": 2,
   "metadata": {
    "collapsed": true
   },
   "outputs": [],
   "source": [
    "html = urllib.request.urlopen('http://avalon.law.yale.edu/subject_menus/inaug.asp', data = None)"
   ]
  },
  {
   "cell_type": "code",
   "execution_count": 3,
   "metadata": {
    "collapsed": true
   },
   "outputs": [],
   "source": [
    "from bs4 import BeautifulSoup\n",
    "soup = BeautifulSoup(html, 'html.parser')"
   ]
  },
  {
   "cell_type": "code",
   "execution_count": 4,
   "metadata": {
    "collapsed": false
   },
   "outputs": [
    {
     "name": "stdout",
     "output_type": "stream",
     "text": [
      "['http://avalon.law.yale.edu/18th_century/wash1.asp', 'http://avalon.law.yale.edu/18th_century/wash2.asp', 'http://avalon.law.yale.edu/18th_century/adams.asp', 'http://avalon.law.yale.edu/19th_century/jefinau1.asp', 'http://avalon.law.yale.edu/19th_century/jefinau2.asp', 'http://avalon.law.yale.edu/19th_century/madison1.asp', 'http://avalon.law.yale.edu/19th_century/madison2.asp', 'http://avalon.law.yale.edu/19th_century/monroe1.asp', 'http://avalon.law.yale.edu/19th_century/monroe2.asp', 'http://avalon.law.yale.edu/19th_century/qadams.asp', 'http://avalon.law.yale.edu/19th_century/jackson1.asp', 'http://avalon.law.yale.edu/19th_century/jackson2.asp', 'http://avalon.law.yale.edu/19th_century/vanburen.asp', 'http://avalon.law.yale.edu/19th_century/harrison.asp', 'http://avalon.law.yale.edu/19th_century/polk.asp', 'http://avalon.law.yale.edu/19th_century/taylor.asp', 'http://avalon.law.yale.edu/19th_century/pierce.asp', 'http://avalon.law.yale.edu/19th_century/buchanan.asp', 'http://avalon.law.yale.edu/19th_century/lincoln1.asp', 'http://avalon.law.yale.edu/19th_century/lincoln2.asp', 'http://avalon.law.yale.edu/19th_century/grant1.asp', 'http://avalon.law.yale.edu/19th_century/grant2.asp', 'http://avalon.law.yale.edu/19th_century/hayes.asp', 'http://avalon.law.yale.edu/19th_century/garfield.asp', 'http://avalon.law.yale.edu/19th_century/cleve1.asp', 'http://avalon.law.yale.edu/19th_century/cleve2.asp', 'http://avalon.law.yale.edu/19th_century/harris.asp', 'http://avalon.law.yale.edu/19th_century/mckin1.asp', 'http://avalon.law.yale.edu/19th_century/mckin2.asp', 'http://avalon.law.yale.edu/20th_century/troos.asp', 'http://avalon.law.yale.edu/20th_century/taft.asp', 'http://avalon.law.yale.edu/20th_century/wilson1.asp', 'http://avalon.law.yale.edu/20th_century/wilson2.asp', 'http://avalon.law.yale.edu/20th_century/harding.asp', 'http://avalon.law.yale.edu/20th_century/coolidge.asp', 'http://avalon.law.yale.edu/20th_century/hoover.asp', 'http://avalon.law.yale.edu/20th_century/froos1.asp', 'http://avalon.law.yale.edu/20th_century/froos2.asp', 'http://avalon.law.yale.edu/20th_century/froos3.asp', 'http://avalon.law.yale.edu/20th_century/froos4.asp', 'http://avalon.law.yale.edu/20th_century/truman.asp', 'http://avalon.law.yale.edu/20th_century/eisen1.asp', 'http://avalon.law.yale.edu/20th_century/eisen2.asp', 'http://avalon.law.yale.edu/20th_century/kennedy.asp', 'http://avalon.law.yale.edu/20th_century/johnson.asp', 'http://avalon.law.yale.edu/20th_century/nixon1.asp', 'http://avalon.law.yale.edu/20th_century/nixon2.asp', 'http://avalon.law.yale.edu/20th_century/carter.asp', 'http://avalon.law.yale.edu/20th_century/reagan1.asp', 'http://avalon.law.yale.edu/20th_century/reagan2.asp', 'http://avalon.law.yale.edu/20th_century/bush.asp', 'http://avalon.law.yale.edu/20th_century/clinton1.asp', 'http://avalon.law.yale.edu/20th_century/clinton2.asp', 'http://avalon.law.yale.edu/21st_century/gbush1.asp', 'http://avalon.law.yale.edu/21st_century/gbush2.asp', 'http://avalon.law.yale.edu/21st_century/obama.asp']\n",
      "['1789', '1793', '1797', '1801', '1805', '1809', '1813', '1817', '1821', '1825', '1829', '1833', '1837', '1841', '1845', '1849', '1853', '1857', '1861', '1865', '1869', '1873', '1877', '1881', '1885', '1893', '1889', '1897', '1901', '1905', '1909', '1913', '1917', '1921', '1925', '1929', '1933', '1937', '1941', '1945', '1949', '1953', '1957', '1961', '1965', '1969', '1973', '1977', '1981', '1985', '1989', '1993', '1997', '2001', '2005', '2009']\n",
      "['George Washington', 'George Washington', 'John Adams', 'Thomas Jefferson', 'Thomas Jefferson', 'James Madison', 'James Madison', 'James Monroe', 'James Monroe', 'John Quincy Adams', 'Andrew Jackson', 'Andrew Jackson', 'Martin Van Buren', 'William Henry Harrison', 'James Polk', 'Zachary Taylor', 'Franklin Pierce', 'James Buchanan', 'Abraham Lincoln', 'Abraham Lincoln', 'Ulysses S. Grant', 'Ulysses S. Grant', 'Rutherford B. Hayes', 'James A. Garfield', 'Grover Cleveland', 'Grover Cleveland', 'Benjamin Harrison', 'William McKinley', 'William McKinley', 'Theodore Roosevelt', 'William Howard Taft', 'Woodrow Wilson', 'Woodrow Wilson', 'Warren G. Harding', 'Calvin Coolidge', 'Herbert Hoover', 'Franklin D. Roosevelt', 'Franklin D. Roosevelt', 'Franklin D. Roosevelt', 'Franklin D. Roosevelt', 'Harry S. Truman', 'Dwight D. Eisenhower', 'Dwight D. Eisenhower', 'John F. Kennedy', 'Lyndon Baines Johnson', 'Richard Milhous Nixon', 'Richard Milhous Nixon', 'Jimmy Carter', 'Ronald Reagan', 'Ronald Reagan', 'George Bush', 'William Clinton', 'William Clinton', 'George W. Bush', 'George W. Bush', 'Barack Obama']\n"
     ]
    }
   ],
   "source": [
    "links = []\n",
    "dates = []\n",
    "pres = []\n",
    "url_prefix = 'http://avalon.law.yale.edu/'\n",
    "import re\n",
    "for link in soup.find_all('a'):\n",
    "    raw_link = link.get('href')\n",
    "#     print(raw_link)\n",
    "    if re.search('subject_menus', raw_link):\n",
    "        continue\n",
    "    elif re.search('about/purpose', raw_link):\n",
    "        continue\n",
    "    elif re.search('default', raw_link):\n",
    "        continue\n",
    "    elif re.match('http', raw_link):\n",
    "        continue            \n",
    "    else:\n",
    "        links.append(url_prefix + raw_link[3:])\n",
    "        dates.append(link.text)\n",
    "        pres.append(link.find_previous('span').get_text())\n",
    "    \n",
    "print(links)\n",
    "print(dates)\n",
    "print(pres)"
   ]
  },
  {
   "cell_type": "code",
   "execution_count": 5,
   "metadata": {
    "collapsed": true
   },
   "outputs": [],
   "source": [
    "import pandas as pd"
   ]
  },
  {
   "cell_type": "code",
   "execution_count": 6,
   "metadata": {
    "collapsed": false
   },
   "outputs": [
    {
     "data": {
      "text/html": [
       "<div>\n",
       "<table border=\"1\" class=\"dataframe\">\n",
       "  <thead>\n",
       "    <tr style=\"text-align: right;\">\n",
       "      <th></th>\n",
       "      <th>urls</th>\n",
       "      <th>years</th>\n",
       "      <th>pres</th>\n",
       "    </tr>\n",
       "  </thead>\n",
       "  <tbody>\n",
       "    <tr>\n",
       "      <th>0</th>\n",
       "      <td>http://avalon.law.yale.edu/18th_century/wash1.asp</td>\n",
       "      <td>1789</td>\n",
       "      <td>George Washington</td>\n",
       "    </tr>\n",
       "    <tr>\n",
       "      <th>1</th>\n",
       "      <td>http://avalon.law.yale.edu/18th_century/wash2.asp</td>\n",
       "      <td>1793</td>\n",
       "      <td>George Washington</td>\n",
       "    </tr>\n",
       "    <tr>\n",
       "      <th>2</th>\n",
       "      <td>http://avalon.law.yale.edu/18th_century/adams.asp</td>\n",
       "      <td>1797</td>\n",
       "      <td>John Adams</td>\n",
       "    </tr>\n",
       "    <tr>\n",
       "      <th>3</th>\n",
       "      <td>http://avalon.law.yale.edu/19th_century/jefina...</td>\n",
       "      <td>1801</td>\n",
       "      <td>Thomas Jefferson</td>\n",
       "    </tr>\n",
       "    <tr>\n",
       "      <th>4</th>\n",
       "      <td>http://avalon.law.yale.edu/19th_century/jefina...</td>\n",
       "      <td>1805</td>\n",
       "      <td>Thomas Jefferson</td>\n",
       "    </tr>\n",
       "  </tbody>\n",
       "</table>\n",
       "</div>"
      ],
      "text/plain": [
       "                                                urls years               pres\n",
       "0  http://avalon.law.yale.edu/18th_century/wash1.asp  1789  George Washington\n",
       "1  http://avalon.law.yale.edu/18th_century/wash2.asp  1793  George Washington\n",
       "2  http://avalon.law.yale.edu/18th_century/adams.asp  1797         John Adams\n",
       "3  http://avalon.law.yale.edu/19th_century/jefina...  1801   Thomas Jefferson\n",
       "4  http://avalon.law.yale.edu/19th_century/jefina...  1805   Thomas Jefferson"
      ]
     },
     "execution_count": 6,
     "metadata": {},
     "output_type": "execute_result"
    }
   ],
   "source": [
    "urls = pd.Series(links)\n",
    "years = pd.Series(dates)\n",
    "pres = pd.Series(pres)\n",
    "\n",
    "inaugurals = pd.concat([urls, years, pres], axis = 1)\n",
    "inaugurals.columns = ['urls', 'years', 'pres']\n",
    "inaugurals.head()"
   ]
  },
  {
   "cell_type": "code",
   "execution_count": 7,
   "metadata": {
    "collapsed": true
   },
   "outputs": [],
   "source": [
    "# A function to count the words\n",
    "def wordcounter(text):\n",
    "    if \"This one did not work:\" in text:\n",
    "        count = \"N/A\"\n",
    "    else:\n",
    "        words = text.split()\n",
    "        count = 0\n",
    "        for word in words:\n",
    "            count += 1\n",
    "    return count\n",
    "        "
   ]
  },
  {
   "cell_type": "code",
   "execution_count": 8,
   "metadata": {
    "collapsed": true
   },
   "outputs": [],
   "source": [
    "# A function to strip the header from the scraped texts\n",
    "\n",
    "def remove_str_head(text):\n",
    "    try:\n",
    "        start_pos = text.index(\"21st Century 2000 - \") + len(\"21st Century 2000 - \")\n",
    "        try:\n",
    "            end_pos = text.index(\"Inaugural Speeches Page\")\n",
    "        except:\n",
    "            # I found this alternative-- this is why scraping is such a pain!\n",
    "            end_pos = text.index(\"Inauguration Speeches Page\")\n",
    "        print('SUCCESS')\n",
    "        return(text[start_pos:end_pos])\n",
    "    except:\n",
    "        print('HEAD NOT STRIPPED')\n",
    "        not_stripped_count += 1\n",
    "        return text\n",
    "        return not_stripped_count\n",
    "    "
   ]
  },
  {
   "cell_type": "code",
   "execution_count": 9,
   "metadata": {
    "collapsed": true
   },
   "outputs": [],
   "source": [
    "# A function to strip the texts\n",
    "def format_text(url):\n",
    "    html = urllib.request.urlopen(url, data = None)\n",
    "    soup = BeautifulSoup(html, \"html.parser\")\n",
    "    text = soup.get_text()\n",
    "    text = remove_str_head(text)\n",
    "    # text = text.strip()\n",
    "    # text = text.replace('\\n', ' ').replace('\\r', ' ')\n",
    "    print(text[:50])\n",
    "    return text"
   ]
  },
  {
   "cell_type": "code",
   "execution_count": 10,
   "metadata": {
    "collapsed": false
   },
   "outputs": [
    {
     "name": "stdout",
     "output_type": "stream",
     "text": [
      "http://avalon.law.yale.edu/18th_century/wash1.asp\n",
      "\n",
      "\n",
      "The Avalon Project : First Inaugural Address of \n",
      "http://avalon.law.yale.edu/18th_century/wash2.asp\n",
      "\n",
      "\n",
      "The Avalon Project : Second Inaugural Address of\n",
      "http://avalon.law.yale.edu/18th_century/adams.asp\n",
      "\n",
      "\n",
      "\n",
      "Avalon Home\n",
      "Document Collections\n",
      "Ancient 4000bc\n",
      "http://avalon.law.yale.edu/19th_century/jefinau1.asp\n",
      "\n",
      "\n",
      "The Avalon Project : Jefferson's First Inaugural\n",
      "http://avalon.law.yale.edu/19th_century/jefinau2.asp\n",
      "\n",
      "\n",
      "The Avalon Project : Jefferson's Second Inaugura\n",
      "http://avalon.law.yale.edu/19th_century/madison1.asp\n",
      "\n",
      "\n",
      "The Avalon Project : Madison's First Inaugural A\n",
      "http://avalon.law.yale.edu/19th_century/madison2.asp\n",
      "\n",
      "\n",
      "The Avalon Project : Madison's Second Inaugural \n",
      "http://avalon.law.yale.edu/19th_century/monroe1.asp\n",
      "\n",
      "\n",
      "The Avalon Project : First Inaugural Address of \n",
      "http://avalon.law.yale.edu/19th_century/monroe2.asp\n",
      "\n",
      "\n",
      "The Avalon Project : Second Inaugural Address of\n",
      "http://avalon.law.yale.edu/19th_century/qadams.asp\n",
      "\n",
      "\n",
      "The Avalon Project : Inaugural Address of John Q\n",
      "http://avalon.law.yale.edu/19th_century/jackson1.asp\n",
      "\n",
      "The Avalon Project : First Inaugural Address of A\n",
      "http://avalon.law.yale.edu/19th_century/jackson2.asp\n",
      "\n",
      "\n",
      "The Avalon Project : Second Inaugural Address of\n",
      "http://avalon.law.yale.edu/19th_century/vanburen.asp\n",
      "http://avalon.law.yale.edu/19th_century/harrison.asp\n",
      "\n",
      "\n",
      "The Avalon Project : Inaugural Address of Willia\n",
      "http://avalon.law.yale.edu/19th_century/polk.asp\n",
      "\n",
      "\n",
      "The Avalon Project : Inaugural Address of James \n",
      "http://avalon.law.yale.edu/19th_century/taylor.asp\n",
      "\n",
      "\n",
      "The Avalon Project : Inaugural Address of Zachar\n",
      "http://avalon.law.yale.edu/19th_century/pierce.asp\n",
      "\n",
      "\n",
      "The Avalon Project : Inaugural Address of Frankl\n",
      "http://avalon.law.yale.edu/19th_century/buchanan.asp\n",
      "http://avalon.law.yale.edu/19th_century/lincoln1.asp\n",
      "\n",
      "\n",
      "The Avalon Project : First Inaugural Address of \n",
      "http://avalon.law.yale.edu/19th_century/lincoln2.asp\n",
      "\n",
      "\n",
      "The Avalon Project : Second Inaugural Address of\n",
      "http://avalon.law.yale.edu/19th_century/grant1.asp\n",
      "\n",
      "\n",
      "The Avalon Project : First Inaugural Address of \n",
      "http://avalon.law.yale.edu/19th_century/grant2.asp\n",
      "\n",
      "\n",
      "The Avalon Project : Inaugural Address of Ulysse\n",
      "http://avalon.law.yale.edu/19th_century/hayes.asp\n",
      "\n",
      "\n",
      "The Avalon Project : Inaugural Address of Ruther\n",
      "http://avalon.law.yale.edu/19th_century/garfield.asp\n",
      "http://avalon.law.yale.edu/19th_century/cleve1.asp\n",
      "\n",
      "\n",
      "The Avalon Project : First Inaugural Address of \n",
      "http://avalon.law.yale.edu/19th_century/cleve2.asp\n",
      "\n",
      "\n",
      "The Avalon Project : Second Inaugural Address of\n",
      "http://avalon.law.yale.edu/19th_century/harris.asp\n",
      "\n",
      "\n",
      "The Avalon Project : Inaugural Address of Benjam\n",
      "http://avalon.law.yale.edu/19th_century/mckin1.asp\n",
      "\n",
      "\n",
      "The Avalon Project : First Inaugural Address of \n",
      "http://avalon.law.yale.edu/19th_century/mckin2.asp\n",
      "\n",
      "\n",
      "The Avalon Project : Second Inaugural Address of\n",
      "http://avalon.law.yale.edu/20th_century/troos.asp\n",
      "\n",
      "\n",
      "The Avalon Project : Inaugural Address of Theodo\n",
      "http://avalon.law.yale.edu/20th_century/taft.asp\n",
      "\n",
      "\n",
      "The Avalon Project : Inaugural Address of Willia\n",
      "http://avalon.law.yale.edu/20th_century/wilson1.asp\n",
      "\n",
      "\n",
      "The Avalon Project : First Inaugural Address of \n",
      "http://avalon.law.yale.edu/20th_century/wilson2.asp\n",
      "\n",
      "\n",
      "The Avalon Project : Second Inaugural Address of\n",
      "http://avalon.law.yale.edu/20th_century/harding.asp\n",
      "\n",
      "\n",
      "The Avalon Project : Inaugural Address of Warren\n",
      "http://avalon.law.yale.edu/20th_century/coolidge.asp\n",
      "http://avalon.law.yale.edu/20th_century/hoover.asp\n",
      "\n",
      "\n",
      "The Avalon Project : Inaugural Address of Herber\n",
      "http://avalon.law.yale.edu/20th_century/froos1.asp\n",
      "\n",
      "\n",
      "The Avalon Project : First Inaugural Address of \n",
      "http://avalon.law.yale.edu/20th_century/froos2.asp\n",
      "\n",
      "\n",
      "The Avalon Project : Second Inaugural Address of\n",
      "http://avalon.law.yale.edu/20th_century/froos3.asp\n",
      "\n",
      "\n",
      "The Avalon Project : Third Inaugural Address of \n",
      "http://avalon.law.yale.edu/20th_century/froos4.asp\n",
      "\n",
      "\n",
      "The Avalon Project : Fourth Inaugural Address of\n",
      "http://avalon.law.yale.edu/20th_century/truman.asp\n",
      "\n",
      "\n",
      "The Avalon Project : Inaugural Address of Harry \n",
      "http://avalon.law.yale.edu/20th_century/eisen1.asp\n",
      "\n",
      "\n",
      "The Avalon Project : First Inaugural Address of \n",
      "http://avalon.law.yale.edu/20th_century/eisen2.asp\n",
      "\n",
      "\n",
      "The Avalon Project : Second Inaugural Address of\n",
      "http://avalon.law.yale.edu/20th_century/kennedy.asp\n",
      "\n",
      "\n",
      "The Avalon Project : Inaugural Address of John F\n",
      "http://avalon.law.yale.edu/20th_century/johnson.asp\n",
      "\n",
      "\n",
      "The Avalon Project : Inaugural Address of Lyndon\n",
      "http://avalon.law.yale.edu/20th_century/nixon1.asp\n",
      "\n",
      "\n",
      "The Avalon Project : First Inaugural Address of \n",
      "http://avalon.law.yale.edu/20th_century/nixon2.asp\n",
      "\n",
      "\n",
      "The Avalon Project : Second Inaugural Address of\n",
      "http://avalon.law.yale.edu/20th_century/carter.asp\n",
      "\n",
      "\n",
      "The Avalon Project : Inaugural Address of Jimmy \n",
      "http://avalon.law.yale.edu/20th_century/reagan1.asp\n",
      "\n",
      "\n",
      "The Avalon Project : First Inaugural Address of \n",
      "http://avalon.law.yale.edu/20th_century/reagan2.asp\n",
      "\n",
      "\n",
      "The Avalon Project : Second Inaugural Address of\n",
      "http://avalon.law.yale.edu/20th_century/bush.asp\n",
      "\n",
      "\n",
      "The Avalon Project : Inaugural Address of George\n",
      "http://avalon.law.yale.edu/20th_century/clinton1.asp\n",
      "\n",
      "\n",
      "The Avalon Project : First Inaugural Address of \n",
      "http://avalon.law.yale.edu/20th_century/clinton2.asp\n",
      "\n",
      "\n",
      "The Avalon Project : Second Inaugural Address of\n",
      "http://avalon.law.yale.edu/21st_century/gbush1.asp\n",
      "\n",
      "\n",
      "The Avalon Project : Inaugural Address of George\n",
      "http://avalon.law.yale.edu/21st_century/gbush2.asp\n",
      "\n",
      "\n",
      "The Avalon Project : Inaugural Address of George\n",
      "http://avalon.law.yale.edu/21st_century/obama.asp\n",
      "\n",
      "\n",
      "The Avalon Project : Inaugural Address of George\n",
      "4 texts failed to load.\n",
      "0 heads were not stripped off\n"
     ]
    }
   ],
   "source": [
    "import time\n",
    "# Don't want to wear out our welcome on the yale server!\n",
    "texts = []\n",
    "fail_count = 0\n",
    "not_stripped_count = 0\n",
    "for url in inaugurals['urls']:\n",
    "    print(url)\n",
    "    try:\n",
    "        scrape = format_text(url)\n",
    "        # scrape = remove_str_head(scrape)\n",
    "        # commented out because I put this in the previous step\n",
    "        texts.append(scrape)\n",
    "    except:\n",
    "        texts.append(\"This one did not work:\" + url)\n",
    "        fail_count += 1\n",
    "    time.sleep(1)\n",
    "\n",
    "print(\"{} texts failed to load.\".format(fail_count))\n",
    "print(\"{} heads were not stripped off\".format(not_stripped_count))\n"
   ]
  },
  {
   "cell_type": "code",
   "execution_count": 11,
   "metadata": {
    "collapsed": false
   },
   "outputs": [
    {
     "name": "stdout",
     "output_type": "stream",
     "text": [
      "[1573, 282, 2537, 1870, 2290, 1321, 1358, 3503, 4600, 3049, 1264, 1311, 'N/A', 8564, 4935, 1225, 3464, 'N/A', 3770, 841, 1263, 1476, 2613, 'N/A', 1819, 2154, 4530, 4097, 2356, 1121, 5568, 1839, 1666, 3466, 'N/A', 3887, 2018, 1942, 1460, 688, 2410, 2583, 1778, 1480, 1620, 2246, 1928, 1361, 2568, 2694, 2448, 1732, 2307, 1725, 2203, 2547]\n"
     ]
    }
   ],
   "source": [
    "counts = []\n",
    "for text in texts:\n",
    "    counts.append(wordcounter(text))\n",
    "    \n",
    "print(counts)"
   ]
  },
  {
   "cell_type": "code",
   "execution_count": 12,
   "metadata": {
    "collapsed": true
   },
   "outputs": [],
   "source": [
    "# now add the new list to the dataframe\n",
    "\n",
    "inaugurals['texts'] = texts\n",
    "inaugurals['wordcounts'] = counts"
   ]
  },
  {
   "cell_type": "code",
   "execution_count": 13,
   "metadata": {
    "collapsed": false
   },
   "outputs": [
    {
     "data": {
      "text/html": [
       "<div>\n",
       "<table border=\"1\" class=\"dataframe\">\n",
       "  <thead>\n",
       "    <tr style=\"text-align: right;\">\n",
       "      <th></th>\n",
       "      <th>urls</th>\n",
       "      <th>years</th>\n",
       "      <th>pres</th>\n",
       "      <th>texts</th>\n",
       "      <th>wordcounts</th>\n",
       "    </tr>\n",
       "  </thead>\n",
       "  <tbody>\n",
       "    <tr>\n",
       "      <th>0</th>\n",
       "      <td>http://avalon.law.yale.edu/18th_century/wash1.asp</td>\n",
       "      <td>1789</td>\n",
       "      <td>George Washington</td>\n",
       "      <td>\\n\\nThe Avalon Project : First Inaugural Addre...</td>\n",
       "      <td>1573</td>\n",
       "    </tr>\n",
       "    <tr>\n",
       "      <th>1</th>\n",
       "      <td>http://avalon.law.yale.edu/18th_century/wash2.asp</td>\n",
       "      <td>1793</td>\n",
       "      <td>George Washington</td>\n",
       "      <td>\\n\\nThe Avalon Project : Second Inaugural Addr...</td>\n",
       "      <td>282</td>\n",
       "    </tr>\n",
       "    <tr>\n",
       "      <th>2</th>\n",
       "      <td>http://avalon.law.yale.edu/18th_century/adams.asp</td>\n",
       "      <td>1797</td>\n",
       "      <td>John Adams</td>\n",
       "      <td>\\n\\n\\nAvalon Home\\nDocument Collections\\nAncie...</td>\n",
       "      <td>2537</td>\n",
       "    </tr>\n",
       "    <tr>\n",
       "      <th>3</th>\n",
       "      <td>http://avalon.law.yale.edu/19th_century/jefina...</td>\n",
       "      <td>1801</td>\n",
       "      <td>Thomas Jefferson</td>\n",
       "      <td>\\n\\nThe Avalon Project : Jefferson's First Ina...</td>\n",
       "      <td>1870</td>\n",
       "    </tr>\n",
       "    <tr>\n",
       "      <th>4</th>\n",
       "      <td>http://avalon.law.yale.edu/19th_century/jefina...</td>\n",
       "      <td>1805</td>\n",
       "      <td>Thomas Jefferson</td>\n",
       "      <td>\\n\\nThe Avalon Project : Jefferson's Second In...</td>\n",
       "      <td>2290</td>\n",
       "    </tr>\n",
       "  </tbody>\n",
       "</table>\n",
       "</div>"
      ],
      "text/plain": [
       "                                                urls years               pres  \\\n",
       "0  http://avalon.law.yale.edu/18th_century/wash1.asp  1789  George Washington   \n",
       "1  http://avalon.law.yale.edu/18th_century/wash2.asp  1793  George Washington   \n",
       "2  http://avalon.law.yale.edu/18th_century/adams.asp  1797         John Adams   \n",
       "3  http://avalon.law.yale.edu/19th_century/jefina...  1801   Thomas Jefferson   \n",
       "4  http://avalon.law.yale.edu/19th_century/jefina...  1805   Thomas Jefferson   \n",
       "\n",
       "                                               texts wordcounts  \n",
       "0  \\n\\nThe Avalon Project : First Inaugural Addre...       1573  \n",
       "1  \\n\\nThe Avalon Project : Second Inaugural Addr...        282  \n",
       "2  \\n\\n\\nAvalon Home\\nDocument Collections\\nAncie...       2537  \n",
       "3  \\n\\nThe Avalon Project : Jefferson's First Ina...       1870  \n",
       "4  \\n\\nThe Avalon Project : Jefferson's Second In...       2290  "
      ]
     },
     "execution_count": 13,
     "metadata": {},
     "output_type": "execute_result"
    }
   ],
   "source": [
    "inaugurals.head()"
   ]
  },
  {
   "cell_type": "code",
   "execution_count": 15,
   "metadata": {
    "collapsed": true
   },
   "outputs": [],
   "source": [
    "# Save the dataframe to csv\n",
    "inaugurals.to_csv('data/inaugurals_paragraph_may10.csv', index = False)"
   ]
  },
  {
   "cell_type": "code",
   "execution_count": 17,
   "metadata": {
    "collapsed": false
   },
   "outputs": [
    {
     "data": {
      "text/plain": [
       "(56, 5)"
      ]
     },
     "execution_count": 17,
     "metadata": {},
     "output_type": "execute_result"
    }
   ],
   "source": [
    "# experiment with paragraph splitting\n",
    "inaugurals.shape\n",
    "    "
   ]
  },
  {
   "cell_type": "code",
   "execution_count": 23,
   "metadata": {
    "collapsed": false
   },
   "outputs": [
    {
     "ename": "IndexError",
     "evalue": "list index out of range",
     "output_type": "error",
     "traceback": [
      "\u001b[0;31m---------------------------------------------------------------------------\u001b[0m",
      "\u001b[0;31mIndexError\u001b[0m                                Traceback (most recent call last)",
      "\u001b[0;32m<ipython-input-23-7b61e5bd8f16>\u001b[0m in \u001b[0;36m<module>\u001b[0;34m()\u001b[0m\n\u001b[1;32m      2\u001b[0m     \u001b[0myears\u001b[0m \u001b[0;34m=\u001b[0m \u001b[0;34m[\u001b[0m\u001b[0;34m]\u001b[0m\u001b[0;34m\u001b[0m\u001b[0m\n\u001b[1;32m      3\u001b[0m     \u001b[0;32mfor\u001b[0m \u001b[0mrow\u001b[0m \u001b[0;32min\u001b[0m \u001b[0minaugurals\u001b[0m\u001b[0;34m.\u001b[0m\u001b[0mtexts\u001b[0m\u001b[0;34m[\u001b[0m\u001b[0mi\u001b[0m\u001b[0;34m]\u001b[0m\u001b[0;34m:\u001b[0m\u001b[0;34m\u001b[0m\u001b[0m\n\u001b[0;32m----> 4\u001b[0;31m         \u001b[0myear_subI\u001b[0m \u001b[0;34m=\u001b[0m \u001b[0myears\u001b[0m\u001b[0;34m[\u001b[0m\u001b[0mi\u001b[0m\u001b[0;34m]\u001b[0m\u001b[0;34m\u001b[0m\u001b[0m\n\u001b[0m\u001b[1;32m      5\u001b[0m         \u001b[0mpres\u001b[0m \u001b[0;34m=\u001b[0m \u001b[0mpres\u001b[0m\u001b[0;34m[\u001b[0m\u001b[0mi\u001b[0m\u001b[0;34m]\u001b[0m\u001b[0;34m\u001b[0m\u001b[0m\n\u001b[1;32m      6\u001b[0m         \u001b[0myears\u001b[0m\u001b[0;34m.\u001b[0m\u001b[0mappend\u001b[0m\u001b[0;34m(\u001b[0m\u001b[0myear_subI\u001b[0m\u001b[0;34m)\u001b[0m\u001b[0;34m\u001b[0m\u001b[0m\n",
      "\u001b[0;31mIndexError\u001b[0m: list index out of range"
     ]
    }
   ],
   "source": [
    "for i in range(56):\n",
    "    years = []\n",
    "    for row in inaugurals.texts[i]:\n",
    "        year_subI = years[i]\n",
    "        pres = pres[i]\n",
    "        years.append(year_subI)\n",
    "    print(years)\n",
    "    \n",
    "    "
   ]
  },
  {
   "cell_type": "code",
   "execution_count": null,
   "metadata": {
    "collapsed": true
   },
   "outputs": [],
   "source": []
  }
 ],
 "metadata": {
  "anaconda-cloud": {},
  "kernelspec": {
   "display_name": "Python [py35]",
   "language": "python",
   "name": "Python [py35]"
  },
  "language_info": {
   "codemirror_mode": {
    "name": "ipython",
    "version": 3
   },
   "file_extension": ".py",
   "mimetype": "text/x-python",
   "name": "python",
   "nbconvert_exporter": "python",
   "pygments_lexer": "ipython3",
   "version": "3.5.2"
  }
 },
 "nbformat": 4,
 "nbformat_minor": 0
}
